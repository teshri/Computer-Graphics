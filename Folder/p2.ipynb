{
 "cells": [
  {
   "cell_type": "code",
   "execution_count": 1,
   "metadata": {},
   "outputs": [
    {
     "name": "stdin",
     "output_type": "stream",
     "text": [
      "Enter X coordinates of Center of Circle:  50\n",
      "Enter Y coordinates of Center of Circle:  50\n",
      "Enter Radius of Circle:  30\n"
     ]
    },
    {
     "name": "stdout",
     "output_type": "stream",
     "text": [
      "( 0 , 30 )\n",
      "( 1 , 30 )\n",
      "( 2 , 30 )\n",
      "( 3 , 30 )\n",
      "( 4 , 30 )\n",
      "( 5 , 29 )\n",
      "( 6 , 29 )\n",
      "( 7 , 29 )\n",
      "( 8 , 29 )\n",
      "( 9 , 28 )\n",
      "( 10 , 28 )\n",
      "( 11 , 27 )\n",
      "( 12 , 27 )\n",
      "( 13 , 26 )\n",
      "( 14 , 26 )\n",
      "( 15 , 25 )\n",
      "( 16 , 25 )\n",
      "( 17 , 24 )\n",
      "( 18 , 23 )\n",
      "( 19 , 22 )\n",
      "( 20 , 21 )\n"
     ]
    }
   ],
   "source": [
    "from graphics import *\n",
    "import time\n",
    "\n",
    "def drawcircle(x0, y0, r):\n",
    "    xi = 0\n",
    "    yi = r\n",
    "    xtemp = []\n",
    "    ytemp = []\n",
    "    p = 3 - (2 * r)\n",
    "    \n",
    "    while xi <= yi:\n",
    "        print(\"(\", xi, \",\", yi, \")\")\n",
    "        xtemp.append(xi)\n",
    "        xtemp.append(yi)\n",
    "        ytemp.append(yi)\n",
    "        ytemp.append(xi)\n",
    "        \n",
    "        xnext = xi + 1\n",
    "        if p < 0:\n",
    "            ynext = yi\n",
    "            p = p + (4 * xnext) + 6\n",
    "        else:\n",
    "            ynext = yi - 1\n",
    "            p = p + (4 * (xnext - ynext)) + 10\n",
    "        \n",
    "        xi = xnext\n",
    "        yi = ynext\n",
    "    \n",
    "    x1 = xtemp\n",
    "    y1 = ytemp\n",
    "    x = []\n",
    "    y = []\n",
    "    \n",
    "    for i in xtemp:\n",
    "        x.append(i)\n",
    "        x.append(i)\n",
    "        x.append(-i)\n",
    "        x.append(-i)\n",
    "    \n",
    "    for i in ytemp:\n",
    "        y.append(i)\n",
    "        y.append(-i)\n",
    "        y.append(-i)\n",
    "        y.append(i)\n",
    "    \n",
    "    win = GraphWin('Ques2: Mid Point Circle Drawing Algorithm', 600, 480)\n",
    "    \n",
    "    for i in range(len(x)):\n",
    "        pt = Point(x[i] + x0, y[i] + y0)\n",
    "        pt.draw(win)\n",
    "    \n",
    "    time.sleep(10)\n",
    "    win.close()\n",
    "\n",
    "X0 = int(input(\"Enter X coordinates of Center of Circle: \"))\n",
    "Y0 = int(input(\"Enter Y coordinates of Center of Circle: \"))\n",
    "R = int(input(\"Enter Radius of Circle: \"))\n",
    "drawcircle(X0, Y0, R)"
   ]
  },
  {
   "cell_type": "code",
   "execution_count": null,
   "metadata": {},
   "outputs": [],
   "source": []
  }
 ],
 "metadata": {
  "kernelspec": {
   "display_name": "Python 3",
   "language": "python",
   "name": "python3"
  },
  "language_info": {
   "codemirror_mode": {
    "name": "ipython",
    "version": 3
   },
   "file_extension": ".py",
   "mimetype": "text/x-python",
   "name": "python",
   "nbconvert_exporter": "python",
   "pygments_lexer": "ipython3",
   "version": "3.8.5"
  }
 },
 "nbformat": 4,
 "nbformat_minor": 5
}
