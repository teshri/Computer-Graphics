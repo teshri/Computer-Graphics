{
 "cells": [
  {
   "cell_type": "code",
   "execution_count": 4,
   "metadata": {},
   "outputs": [
    {
     "name": "stdin",
     "output_type": "stream",
     "text": [
      "Enter Lower Bound Coordinates of Interaction Area:  2 2\n",
      "Enter Upper Bound Coordinates of Interaction Area:  5 7\n",
      "Enter Starting Coordinates of line:  1 7\n",
      "Enter Ending Coordinates of line:  3 6\n"
     ]
    },
    {
     "name": "stdout",
     "output_type": "stream",
     "text": [
      "x1:  3 , y1:  6\n",
      "x2:  2 , Y2:  6.5\n"
     ]
    },
    {
     "data": {
      "image/png": "[encoded data removed]",
      "text/plain": [
       "<Figure size 640x480 with 1 Axes>"
      ]
     },
     "metadata": {},
     "output_type": "display_data"
    }
   ],
   "source": [
    "import matplotlib.pyplot as plt\n",
    "\n",
    "def check_points(xmin, ymin, xmax, ymax, x1, y1):\n",
    "    if x1 >= xmin and x1 <= xmax:\n",
    "        if y1 >= ymin and y1 <= ymax:\n",
    "            return True\n",
    "        else:\n",
    "            return False\n",
    "    else:\n",
    "        return False\n",
    "\n",
    "def get_xy(xmin, ymin, xmax, ymax, x1, y1, x2, y2):\n",
    "    xlist = []\n",
    "    ylist = []\n",
    "    m = (y2 - y1) / (x2 - x1)\n",
    "    plt.ylim(ymin, ymax)\n",
    "    plt.xlim(xmin, xmax)\n",
    "    if check_points(xmin, ymin, xmax, ymax, x1, y1) and check_points(xmin, ymin, xmax, ymax, x2, y2):\n",
    "        print(\"Nothing to Clip: Line Lies in the Interaction Region\")\n",
    "    elif not check_points(xmin, ymin, xmax, ymax, x1, y1) and not check_points(xmin, ymin, xmax, ymax, x2, y2):\n",
    "        print(\"Sorry but Line doesn't Lie in the Interaction Region\")\n",
    "    else:\n",
    "        if check_points(xmin, ymin, xmax, ymax, x1, y1):\n",
    "            A = x1\n",
    "            B = y1\n",
    "            C = x2\n",
    "            D = y2\n",
    "        else:\n",
    "            A = x2\n",
    "            B = y2\n",
    "            C = x1\n",
    "            D = y1\n",
    "        print(\"x1: \", A, \", y1: \", B)\n",
    "        xlist.append(A)\n",
    "        ylist.append(B)\n",
    "        if C <= xmin:\n",
    "            # left\n",
    "            x = xmin\n",
    "            y = B + (m * (xmin - A))\n",
    "        elif C >= xmax:\n",
    "            # right\n",
    "            x = xmax\n",
    "            y = B + (m * (xmax - A))\n",
    "        elif D <= ymin:\n",
    "            # bottom\n",
    "            y = ymin\n",
    "            x = ((ymin - B) / m) + A\n",
    "        else:\n",
    "            # top\n",
    "            y = ymax\n",
    "            x = ((ymax - B) / m) + A\n",
    "        xlist.append(x)\n",
    "        ylist.append(y)\n",
    "        print(\"x2: \", x, \", Y2: \", y)\n",
    "        plt.title('Cohen Sutherland Line Clipping Algorithm By csc/21/08')\n",
    "        plt.plot(xlist, ylist)\n",
    "        plt.show()\n",
    "\n",
    "xmin, ymin = map(int, input(\"Enter Lower Bound Coordinates of Interaction Area: \").split())\n",
    "xmax, ymax = map(int, input(\"Enter Upper Bound Coordinates of Interaction Area: \").split())\n",
    "x1, y1 = map(int, input(\"Enter Starting Coordinates of line: \").split())\n",
    "x2, y2 = map(int, input(\"Enter Ending Coordinates of line: \").split())\n",
    "get_xy(xmin, ymin, xmax, ymax, x1, y1, x2, y2)"
   ]
  },
  {
   "cell_type": "code",
   "execution_count": null,
   "metadata": {},
   "outputs": [],
   "source": []
  }
 ],
 "metadata": {
  "kernelspec": {
   "display_name": "Python 3",
   "language": "python",
   "name": "python3"
  },
  "language_info": {
   "codemirror_mode": {
    "name": "ipython",
    "version": 3
   },
   "file_extension": ".py",
   "mimetype": "text/x-python",
   "name": "python",
   "nbconvert_exporter": "python",
   "pygments_lexer": "ipython3",
   "version": "3.8.5"
  }
 },
 "nbformat": 4,
 "nbformat_minor": 5
}
