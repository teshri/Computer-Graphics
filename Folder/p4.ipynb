{
 "cells": [
  {
   "cell_type": "code",
   "execution_count": 4,
   "metadata": {},
   "outputs": [
    {
     "name": "stdout",
     "output_type": "stream",
     "text": [
      "Enter Lower bound of Cropped Area: 2 2\n",
      "Enter Upper bound of Cropped Area: 6 6\n",
      "Enter Number of vertices in a Polygon: 3\n",
      "Start entering Points:\n",
      "Enter Coordinates of 1 Vertex:\n",
      "1 5\n",
      "Enter Coordinates of 2 Vertex:\n",
      "2 7\n",
      "Enter Coordinates of 3 Vertex:\n",
      "3 5\n"
     ]
    },
    {
     "data": {
      "image/png": "[encoded data removed]",
      "text/plain": [
       "<Figure size 432x288 with 1 Axes>"
      ]
     },
     "metadata": {
      "needs_background": "light"
     },
     "output_type": "display_data"
    },
    {
     "name": "stdout",
     "output_type": "stream",
     "text": [
      "outside to outside\n",
      "Outside to inside\n",
      "Inside to outside\n",
      "[(2, 7.0), (3, 5), (2, 5.0)]\n"
     ]
    },
    {
     "data": {
      "image/png": "[encoded data removed]",
      "text/plain": [
       "<Figure size 432x288 with 1 Axes>"
      ]
     },
     "metadata": {
      "needs_background": "light"
     },
     "output_type": "display_data"
    }
   ],
   "source": [
    "import matplotlib.pyplot as plt\n",
    "from shapely.geometry import Polygon\n",
    "\n",
    "def draw_graph(xlist, ylist, V, title):\n",
    "    plt.plot(xlist, ylist, c=\"red\", label=\"Required Area\")\n",
    "    x = []\n",
    "    y = []\n",
    "    for i in V:\n",
    "        x.append(i[0])\n",
    "        y.append(i[1])\n",
    "    plt.plot(x, y, c=\"blue\", label=\"Polygon\")\n",
    "    plt.show()\n",
    "\n",
    "def check_points(xmin, ymin, xmax, ymax, x1, y1):\n",
    "    if (x1 >= xmin and x1 <= xmax):\n",
    "        if (y1 >= ymin and y1 <= ymax):\n",
    "            return True\n",
    "        else:\n",
    "            return False\n",
    "    else:\n",
    "        return False\n",
    "\n",
    "def get_xy(xmin, ymin, xmax, ymax, x1, y1, x2, y2):\n",
    "    m = (y2 - y1) / (x2 - x1)\n",
    "    if (check_points(xmin, ymin, xmax, ymax, x1, y1)):\n",
    "        A = x1\n",
    "        B = y1\n",
    "        C = x2\n",
    "        D = y2\n",
    "    else:\n",
    "        A = x2\n",
    "        B = y2\n",
    "        C = x1\n",
    "        D = y1\n",
    "    if (C <= xmin):\n",
    "        # left\n",
    "        x = xmin\n",
    "        y = B + (m * (xmin - A))\n",
    "    elif (C >= xmax):\n",
    "        # right\n",
    "        x = xmax\n",
    "        y = B + (m * (xmax - A))\n",
    "    elif (D <= ymin):\n",
    "        # bottom\n",
    "        y = ymin\n",
    "        x = ((ymin - B) / m) + A\n",
    "    else:\n",
    "        # top\n",
    "        y = ymax\n",
    "        x = ((ymax - B) / m) + A\n",
    "    return (x, y)\n",
    "\n",
    "def clip_using_sutherland_hodgman(x1, y1, x2, y2, V):\n",
    "    check = []\n",
    "    v1 = []\n",
    "    for i in V:\n",
    "        check.append(check_points(x1, y1, x2, y2, i[0], i[1]))\n",
    "\n",
    "    for i in range(len(check) - 1):\n",
    "        if (check[i] == False):\n",
    "            if (check[i + 1] == True):\n",
    "                print(\"Outside to inside\")\n",
    "                x, y = get_xy(x1, y1, x2, y2, V[i][0], V[i][1], V[i + 1][0], V[i + 1][1])\n",
    "                v1.append((x, y))\n",
    "            else:\n",
    "                print(\"outside to outside\")\n",
    "        elif (check[i]):\n",
    "            if (check[i + 1] == True):\n",
    "                print(\"Inside to Inside\")\n",
    "                v1.append((V[i][0], V[i][1]))\n",
    "            else:\n",
    "                print(\"Inside to outside\")\n",
    "                v1.append((int(V[i][0]), int(V[i][1])))\n",
    "                x, y = get_xy(x1, y1, x2, y2, V[i][0], V[i][1], V[i + 1][0], V[i + 1][1])\n",
    "                v1.append((x, y))\n",
    "    print(v1)\n",
    "    return v1\n",
    "\n",
    "x1, y1 = map(int, input(\"Enter Lower bound of Cropped Area: \").split())\n",
    "x2, y2 = map(int, input(\"Enter Upper bound of Cropped Area: \").split())\n",
    "\n",
    "xlist = [x1, x1, x2, x2, x1]\n",
    "ylist = [y1, y2, y2, y1, y1]\n",
    "\n",
    "count = int(input(\"Enter Number of vertices in a Polygon: \"))\n",
    "V = []\n",
    "print(\"Start entering Points:\")\n",
    "for i in range(count):\n",
    "    print(\"Enter Coordinates of\", i + 1, \"Vertex:\")\n",
    "    x, y = map(int, input().split())\n",
    "    V.append((x, y))\n",
    "V.append((V[0][0], V[0][1]))\n",
    "\n",
    "draw_graph(xlist, ylist, V, \"Actual Data is: \")\n",
    "V1 = clip_using_sutherland_hodgman(x1, y1, x2, y2, V)\n",
    "draw_graph(xlist, ylist, V1, \"Cropped Data is: \")\n"
   ]
  },
  {
   "cell_type": "code",
   "execution_count": 3,
   "metadata": {},
   "outputs": [
    {
     "name": "stdout",
     "output_type": "stream",
     "text": [
      "Collecting shapely\n",
      "  Downloading shapely-2.0.4-cp38-cp38-win_amd64.whl (1.5 MB)\n",
      "Requirement already satisfied: numpy<3,>=1.14 in c:\\users\\dell\\downloads\\anaconda\\lib\\site-packages (from shapely) (1.19.2)\n",
      "Installing collected packages: shapely\n",
      "Successfully installed shapely-2.0.4\n",
      "Note: you may need to restart the kernel to use updated packages.\n"
     ]
    }
   ],
   "source": [
    "pip install shapely\n"
   ]
  },
  {
   "cell_type": "code",
   "execution_count": null,
   "metadata": {},
   "outputs": [],
   "source": []
  }
 ],
 "metadata": {
  "kernelspec": {
   "display_name": "Python 3",
   "language": "python",
   "name": "python3"
  },
  "language_info": {
   "codemirror_mode": {
    "name": "ipython",
    "version": 3
   },
   "file_extension": ".py",
   "mimetype": "text/x-python",
   "name": "python",
   "nbconvert_exporter": "python",
   "pygments_lexer": "ipython3",
   "version": "3.8.5"
  }
 },
 "nbformat": 4,
 "nbformat_minor": 4
}
